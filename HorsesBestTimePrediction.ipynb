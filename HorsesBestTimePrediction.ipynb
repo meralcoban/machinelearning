{
 "cells": [
  {
   "cell_type": "code",
   "execution_count": 2,
   "id": "789ae58b",
   "metadata": {},
   "outputs": [],
   "source": [
    "import numpy as np\n",
    "import pandas as pd\n",
    "import matplotlib.pyplot as plt\n",
    "import seaborn as sns\n",
    "from sklearn.linear_model import LinearRegression\n",
    "from sklearn.ensemble import RandomForestRegressor\n",
    "from sklearn.model_selection import train_test_split\n",
    "from sklearn.preprocessing import LabelEncoder\n",
    "from sklearn.preprocessing import StandardScaler"
   ]
  },
  {
   "cell_type": "code",
   "execution_count": 3,
   "id": "be6d1791",
   "metadata": {},
   "outputs": [],
   "source": [
    "df=pd.read_csv(\"raceDetails.csv\")"
   ]
  },
  {
   "cell_type": "code",
   "execution_count": 4,
   "id": "870612ca",
   "metadata": {},
   "outputs": [
    {
     "data": {
      "text/html": [
       "<div>\n",
       "<style scoped>\n",
       "    .dataframe tbody tr th:only-of-type {\n",
       "        vertical-align: middle;\n",
       "    }\n",
       "\n",
       "    .dataframe tbody tr th {\n",
       "        vertical-align: top;\n",
       "    }\n",
       "\n",
       "    .dataframe thead th {\n",
       "        text-align: right;\n",
       "    }\n",
       "</style>\n",
       "<table border=\"1\" class=\"dataframe\">\n",
       "  <thead>\n",
       "    <tr style=\"text-align: right;\">\n",
       "      <th></th>\n",
       "      <th>race_date</th>\n",
       "      <th>race_city</th>\n",
       "      <th>race_no</th>\n",
       "      <th>race_type</th>\n",
       "      <th>race_sex_group</th>\n",
       "      <th>race_age_group</th>\n",
       "      <th>race_race_group</th>\n",
       "      <th>race_length</th>\n",
       "      <th>race_track_type</th>\n",
       "      <th>race_track_condition</th>\n",
       "      <th>best_rating</th>\n",
       "    </tr>\n",
       "  </thead>\n",
       "  <tbody>\n",
       "    <tr>\n",
       "      <th>0</th>\n",
       "      <td>2024-01-01</td>\n",
       "      <td>Bursa</td>\n",
       "      <td>1</td>\n",
       "      <td>Condition 2</td>\n",
       "      <td>Undefined</td>\n",
       "      <td>3 Years Old</td>\n",
       "      <td>English</td>\n",
       "      <td>1400</td>\n",
       "      <td>Dirt</td>\n",
       "      <td>Good Going</td>\n",
       "      <td>1.24.50</td>\n",
       "    </tr>\n",
       "    <tr>\n",
       "      <th>1</th>\n",
       "      <td>2024-01-01</td>\n",
       "      <td>Bursa</td>\n",
       "      <td>2</td>\n",
       "      <td>Maiden</td>\n",
       "      <td>Undefined</td>\n",
       "      <td>4 Years Old</td>\n",
       "      <td>Arabian</td>\n",
       "      <td>1400</td>\n",
       "      <td>Dirt</td>\n",
       "      <td>Good Going</td>\n",
       "      <td>1.33.63</td>\n",
       "    </tr>\n",
       "    <tr>\n",
       "      <th>2</th>\n",
       "      <td>2024-01-01</td>\n",
       "      <td>Bursa</td>\n",
       "      <td>3</td>\n",
       "      <td>Condition 3</td>\n",
       "      <td>Female</td>\n",
       "      <td>3 Years Old</td>\n",
       "      <td>English</td>\n",
       "      <td>1200</td>\n",
       "      <td>Dirt</td>\n",
       "      <td>Good Going</td>\n",
       "      <td>1.11.37</td>\n",
       "    </tr>\n",
       "    <tr>\n",
       "      <th>3</th>\n",
       "      <td>2024-01-01</td>\n",
       "      <td>Bursa</td>\n",
       "      <td>4</td>\n",
       "      <td>Condition 4</td>\n",
       "      <td>Undefined</td>\n",
       "      <td>4 Years Old and Up</td>\n",
       "      <td>Arabian</td>\n",
       "      <td>2000</td>\n",
       "      <td>Dirt</td>\n",
       "      <td>Good Going</td>\n",
       "      <td>2.18.40</td>\n",
       "    </tr>\n",
       "    <tr>\n",
       "      <th>4</th>\n",
       "      <td>2024-01-01</td>\n",
       "      <td>Bursa</td>\n",
       "      <td>5</td>\n",
       "      <td>Handicap 15</td>\n",
       "      <td>Undefined</td>\n",
       "      <td>4 Years Old and Up</td>\n",
       "      <td>English</td>\n",
       "      <td>1300</td>\n",
       "      <td>Dirt</td>\n",
       "      <td>Good Going</td>\n",
       "      <td>1.18.11</td>\n",
       "    </tr>\n",
       "    <tr>\n",
       "      <th>...</th>\n",
       "      <td>...</td>\n",
       "      <td>...</td>\n",
       "      <td>...</td>\n",
       "      <td>...</td>\n",
       "      <td>...</td>\n",
       "      <td>...</td>\n",
       "      <td>...</td>\n",
       "      <td>...</td>\n",
       "      <td>...</td>\n",
       "      <td>...</td>\n",
       "      <td>...</td>\n",
       "    </tr>\n",
       "    <tr>\n",
       "      <th>475</th>\n",
       "      <td>2024-01-31</td>\n",
       "      <td>Şanlıurfa</td>\n",
       "      <td>4</td>\n",
       "      <td>Handicap 15</td>\n",
       "      <td>Undefined</td>\n",
       "      <td>4 Years Old and Up</td>\n",
       "      <td>English</td>\n",
       "      <td>2100</td>\n",
       "      <td>Dirt</td>\n",
       "      <td>Good Going</td>\n",
       "      <td>2.13.86</td>\n",
       "    </tr>\n",
       "    <tr>\n",
       "      <th>476</th>\n",
       "      <td>2024-01-31</td>\n",
       "      <td>Şanlıurfa</td>\n",
       "      <td>5</td>\n",
       "      <td>Condition 2</td>\n",
       "      <td>Female</td>\n",
       "      <td>4 Years Old</td>\n",
       "      <td>Arabian</td>\n",
       "      <td>1400</td>\n",
       "      <td>Dirt</td>\n",
       "      <td>Good Going</td>\n",
       "      <td>1.35.56</td>\n",
       "    </tr>\n",
       "    <tr>\n",
       "      <th>477</th>\n",
       "      <td>2024-01-31</td>\n",
       "      <td>Şanlıurfa</td>\n",
       "      <td>6</td>\n",
       "      <td>Maiden</td>\n",
       "      <td>Undefined</td>\n",
       "      <td>3 Years Old</td>\n",
       "      <td>English</td>\n",
       "      <td>1300</td>\n",
       "      <td>Dirt</td>\n",
       "      <td>Good Going</td>\n",
       "      <td>1.19.29</td>\n",
       "    </tr>\n",
       "    <tr>\n",
       "      <th>478</th>\n",
       "      <td>2024-01-31</td>\n",
       "      <td>Şanlıurfa</td>\n",
       "      <td>7</td>\n",
       "      <td>Condition 3</td>\n",
       "      <td>Undefined</td>\n",
       "      <td>4 Years Old and Up</td>\n",
       "      <td>English</td>\n",
       "      <td>1300</td>\n",
       "      <td>Dirt</td>\n",
       "      <td>Good Going</td>\n",
       "      <td>1.19.29</td>\n",
       "    </tr>\n",
       "    <tr>\n",
       "      <th>479</th>\n",
       "      <td>2024-01-31</td>\n",
       "      <td>Şanlıurfa</td>\n",
       "      <td>8</td>\n",
       "      <td>Handicap 14</td>\n",
       "      <td>Undefined</td>\n",
       "      <td>4 Years Old</td>\n",
       "      <td>Arabian</td>\n",
       "      <td>1700</td>\n",
       "      <td>Dirt</td>\n",
       "      <td>Good Going</td>\n",
       "      <td>1.56.86</td>\n",
       "    </tr>\n",
       "  </tbody>\n",
       "</table>\n",
       "<p>480 rows × 11 columns</p>\n",
       "</div>"
      ],
      "text/plain": [
       "      race_date  race_city  race_no    race_type race_sex_group  \\\n",
       "0    2024-01-01      Bursa        1  Condition 2      Undefined   \n",
       "1    2024-01-01      Bursa        2       Maiden      Undefined   \n",
       "2    2024-01-01      Bursa        3  Condition 3         Female   \n",
       "3    2024-01-01      Bursa        4  Condition 4      Undefined   \n",
       "4    2024-01-01      Bursa        5  Handicap 15      Undefined   \n",
       "..          ...        ...      ...          ...            ...   \n",
       "475  2024-01-31  Şanlıurfa        4  Handicap 15      Undefined   \n",
       "476  2024-01-31  Şanlıurfa        5  Condition 2         Female   \n",
       "477  2024-01-31  Şanlıurfa        6       Maiden      Undefined   \n",
       "478  2024-01-31  Şanlıurfa        7  Condition 3      Undefined   \n",
       "479  2024-01-31  Şanlıurfa        8  Handicap 14      Undefined   \n",
       "\n",
       "         race_age_group race_race_group  race_length race_track_type  \\\n",
       "0           3 Years Old         English         1400            Dirt   \n",
       "1           4 Years Old         Arabian         1400            Dirt   \n",
       "2           3 Years Old         English         1200            Dirt   \n",
       "3    4 Years Old and Up         Arabian         2000            Dirt   \n",
       "4    4 Years Old and Up         English         1300            Dirt   \n",
       "..                  ...             ...          ...             ...   \n",
       "475  4 Years Old and Up         English         2100            Dirt   \n",
       "476         4 Years Old         Arabian         1400            Dirt   \n",
       "477         3 Years Old         English         1300            Dirt   \n",
       "478  4 Years Old and Up         English         1300            Dirt   \n",
       "479         4 Years Old         Arabian         1700            Dirt   \n",
       "\n",
       "    race_track_condition best_rating  \n",
       "0             Good Going     1.24.50  \n",
       "1             Good Going     1.33.63  \n",
       "2             Good Going     1.11.37  \n",
       "3             Good Going     2.18.40  \n",
       "4             Good Going     1.18.11  \n",
       "..                   ...         ...  \n",
       "475           Good Going     2.13.86  \n",
       "476           Good Going     1.35.56  \n",
       "477           Good Going     1.19.29  \n",
       "478           Good Going     1.19.29  \n",
       "479           Good Going     1.56.86  \n",
       "\n",
       "[480 rows x 11 columns]"
      ]
     },
     "execution_count": 4,
     "metadata": {},
     "output_type": "execute_result"
    }
   ],
   "source": [
    "df"
   ]
  },
  {
   "cell_type": "code",
   "execution_count": 5,
   "id": "80a92ee5",
   "metadata": {},
   "outputs": [
    {
     "name": "stdout",
     "output_type": "stream",
     "text": [
      "<class 'pandas.core.frame.DataFrame'>\n",
      "RangeIndex: 480 entries, 0 to 479\n",
      "Data columns (total 11 columns):\n",
      " #   Column                Non-Null Count  Dtype \n",
      "---  ------                --------------  ----- \n",
      " 0   race_date             480 non-null    object\n",
      " 1   race_city             480 non-null    object\n",
      " 2   race_no               480 non-null    int64 \n",
      " 3   race_type             480 non-null    object\n",
      " 4   race_sex_group        480 non-null    object\n",
      " 5   race_age_group        480 non-null    object\n",
      " 6   race_race_group       480 non-null    object\n",
      " 7   race_length           480 non-null    int64 \n",
      " 8   race_track_type       480 non-null    object\n",
      " 9   race_track_condition  480 non-null    object\n",
      " 10  best_rating           480 non-null    object\n",
      "dtypes: int64(2), object(9)\n",
      "memory usage: 41.4+ KB\n"
     ]
    }
   ],
   "source": [
    "df.info()"
   ]
  },
  {
   "cell_type": "code",
   "execution_count": 6,
   "id": "918a4ca7",
   "metadata": {},
   "outputs": [],
   "source": [
    "df['best_rating_seconds'] = pd.to_datetime(df['best_rating'], format='%M.%S.%f').dt.minute * 60 + pd.to_datetime(df['best_rating'], format='%M.%S.%f').dt.second + pd.to_datetime(df['best_rating'], format='%M.%S.%f').dt.microsecond / 1e6"
   ]
  },
  {
   "cell_type": "code",
   "execution_count": 8,
   "id": "572a4281",
   "metadata": {},
   "outputs": [
    {
     "data": {
      "text/plain": [
       "array(['Dirt', 'Dirt (Polytrack)'], dtype=object)"
      ]
     },
     "execution_count": 8,
     "metadata": {},
     "output_type": "execute_result"
    }
   ],
   "source": [
    "df[\"race_track_type\"].unique()"
   ]
  },
  {
   "cell_type": "code",
   "execution_count": 9,
   "id": "79602cae",
   "metadata": {},
   "outputs": [],
   "source": [
    "df = pd.get_dummies(df, columns=['race_track_type','race_race_group','race_sex_group'],drop_first=True)"
   ]
  },
  {
   "cell_type": "code",
   "execution_count": 10,
   "id": "89f5fd5f",
   "metadata": {},
   "outputs": [
    {
     "data": {
      "text/plain": [
       "array(['Bursa', 'Adana', 'Antalya', 'İstanbul', 'İzmir', 'Kocaeli',\n",
       "       'Şanlıurfa'], dtype=object)"
      ]
     },
     "execution_count": 10,
     "metadata": {},
     "output_type": "execute_result"
    }
   ],
   "source": [
    "df[\"race_city\"].unique()"
   ]
  },
  {
   "cell_type": "code",
   "execution_count": 11,
   "id": "78577749",
   "metadata": {},
   "outputs": [],
   "source": [
    "le=LabelEncoder()\n",
    "le.fit(df[\"race_date\"])\n",
    "df[\"race_date\"]=le.transform(df[\"race_date\"])"
   ]
  },
  {
   "cell_type": "code",
   "execution_count": 12,
   "id": "1727f6f6",
   "metadata": {},
   "outputs": [],
   "source": [
    "le.fit(df[\"race_city\"])\n",
    "df[\"race_city\"]=le.transform(df[\"race_city\"])"
   ]
  },
  {
   "cell_type": "code",
   "execution_count": 13,
   "id": "d4084515",
   "metadata": {},
   "outputs": [],
   "source": [
    "le.fit(df[\"race_type\"])\n",
    "df[\"race_type\"]=le.transform(df[\"race_type\"])"
   ]
  },
  {
   "cell_type": "code",
   "execution_count": 14,
   "id": "997e7f5d",
   "metadata": {},
   "outputs": [],
   "source": [
    "le.fit(df[\"race_track_condition\"])\n",
    "df[\"race_track_condition\"]=le.transform(df[\"race_track_condition\"])"
   ]
  },
  {
   "cell_type": "code",
   "execution_count": 15,
   "id": "416015d6",
   "metadata": {},
   "outputs": [],
   "source": [
    "le.fit(df[\"race_age_group\"])\n",
    "df[\"race_age_group\"]=le.transform(df[\"race_age_group\"])"
   ]
  },
  {
   "cell_type": "code",
   "execution_count": 16,
   "id": "085a0631",
   "metadata": {},
   "outputs": [],
   "source": [
    "df=df.drop(columns=[\"race_no\",\"best_rating\"])"
   ]
  },
  {
   "cell_type": "code",
   "execution_count": 17,
   "id": "f5de854b",
   "metadata": {},
   "outputs": [
    {
     "data": {
      "text/html": [
       "<div>\n",
       "<style scoped>\n",
       "    .dataframe tbody tr th:only-of-type {\n",
       "        vertical-align: middle;\n",
       "    }\n",
       "\n",
       "    .dataframe tbody tr th {\n",
       "        vertical-align: top;\n",
       "    }\n",
       "\n",
       "    .dataframe thead th {\n",
       "        text-align: right;\n",
       "    }\n",
       "</style>\n",
       "<table border=\"1\" class=\"dataframe\">\n",
       "  <thead>\n",
       "    <tr style=\"text-align: right;\">\n",
       "      <th></th>\n",
       "      <th>race_date</th>\n",
       "      <th>race_city</th>\n",
       "      <th>race_type</th>\n",
       "      <th>race_age_group</th>\n",
       "      <th>race_length</th>\n",
       "      <th>race_track_condition</th>\n",
       "      <th>best_rating_seconds</th>\n",
       "      <th>race_track_type_Dirt (Polytrack)</th>\n",
       "      <th>race_race_group_English</th>\n",
       "      <th>race_sex_group_Undefined</th>\n",
       "    </tr>\n",
       "  </thead>\n",
       "  <tbody>\n",
       "    <tr>\n",
       "      <th>0</th>\n",
       "      <td>0</td>\n",
       "      <td>2</td>\n",
       "      <td>1</td>\n",
       "      <td>0</td>\n",
       "      <td>1400</td>\n",
       "      <td>0</td>\n",
       "      <td>84.50</td>\n",
       "      <td>0</td>\n",
       "      <td>1</td>\n",
       "      <td>1</td>\n",
       "    </tr>\n",
       "    <tr>\n",
       "      <th>1</th>\n",
       "      <td>0</td>\n",
       "      <td>2</td>\n",
       "      <td>16</td>\n",
       "      <td>1</td>\n",
       "      <td>1400</td>\n",
       "      <td>0</td>\n",
       "      <td>93.63</td>\n",
       "      <td>0</td>\n",
       "      <td>0</td>\n",
       "      <td>1</td>\n",
       "    </tr>\n",
       "    <tr>\n",
       "      <th>2</th>\n",
       "      <td>0</td>\n",
       "      <td>2</td>\n",
       "      <td>2</td>\n",
       "      <td>0</td>\n",
       "      <td>1200</td>\n",
       "      <td>0</td>\n",
       "      <td>71.37</td>\n",
       "      <td>0</td>\n",
       "      <td>1</td>\n",
       "      <td>0</td>\n",
       "    </tr>\n",
       "    <tr>\n",
       "      <th>3</th>\n",
       "      <td>0</td>\n",
       "      <td>2</td>\n",
       "      <td>3</td>\n",
       "      <td>2</td>\n",
       "      <td>2000</td>\n",
       "      <td>0</td>\n",
       "      <td>138.40</td>\n",
       "      <td>0</td>\n",
       "      <td>0</td>\n",
       "      <td>1</td>\n",
       "    </tr>\n",
       "    <tr>\n",
       "      <th>4</th>\n",
       "      <td>0</td>\n",
       "      <td>2</td>\n",
       "      <td>12</td>\n",
       "      <td>2</td>\n",
       "      <td>1300</td>\n",
       "      <td>0</td>\n",
       "      <td>78.11</td>\n",
       "      <td>0</td>\n",
       "      <td>1</td>\n",
       "      <td>1</td>\n",
       "    </tr>\n",
       "    <tr>\n",
       "      <th>...</th>\n",
       "      <td>...</td>\n",
       "      <td>...</td>\n",
       "      <td>...</td>\n",
       "      <td>...</td>\n",
       "      <td>...</td>\n",
       "      <td>...</td>\n",
       "      <td>...</td>\n",
       "      <td>...</td>\n",
       "      <td>...</td>\n",
       "      <td>...</td>\n",
       "    </tr>\n",
       "    <tr>\n",
       "      <th>475</th>\n",
       "      <td>30</td>\n",
       "      <td>6</td>\n",
       "      <td>12</td>\n",
       "      <td>2</td>\n",
       "      <td>2100</td>\n",
       "      <td>0</td>\n",
       "      <td>133.86</td>\n",
       "      <td>0</td>\n",
       "      <td>1</td>\n",
       "      <td>1</td>\n",
       "    </tr>\n",
       "    <tr>\n",
       "      <th>476</th>\n",
       "      <td>30</td>\n",
       "      <td>6</td>\n",
       "      <td>1</td>\n",
       "      <td>1</td>\n",
       "      <td>1400</td>\n",
       "      <td>0</td>\n",
       "      <td>95.56</td>\n",
       "      <td>0</td>\n",
       "      <td>0</td>\n",
       "      <td>0</td>\n",
       "    </tr>\n",
       "    <tr>\n",
       "      <th>477</th>\n",
       "      <td>30</td>\n",
       "      <td>6</td>\n",
       "      <td>16</td>\n",
       "      <td>0</td>\n",
       "      <td>1300</td>\n",
       "      <td>0</td>\n",
       "      <td>79.29</td>\n",
       "      <td>0</td>\n",
       "      <td>1</td>\n",
       "      <td>1</td>\n",
       "    </tr>\n",
       "    <tr>\n",
       "      <th>478</th>\n",
       "      <td>30</td>\n",
       "      <td>6</td>\n",
       "      <td>2</td>\n",
       "      <td>2</td>\n",
       "      <td>1300</td>\n",
       "      <td>0</td>\n",
       "      <td>79.29</td>\n",
       "      <td>0</td>\n",
       "      <td>1</td>\n",
       "      <td>1</td>\n",
       "    </tr>\n",
       "    <tr>\n",
       "      <th>479</th>\n",
       "      <td>30</td>\n",
       "      <td>6</td>\n",
       "      <td>11</td>\n",
       "      <td>1</td>\n",
       "      <td>1700</td>\n",
       "      <td>0</td>\n",
       "      <td>116.86</td>\n",
       "      <td>0</td>\n",
       "      <td>0</td>\n",
       "      <td>1</td>\n",
       "    </tr>\n",
       "  </tbody>\n",
       "</table>\n",
       "<p>480 rows × 10 columns</p>\n",
       "</div>"
      ],
      "text/plain": [
       "     race_date  race_city  race_type  race_age_group  race_length  \\\n",
       "0            0          2          1               0         1400   \n",
       "1            0          2         16               1         1400   \n",
       "2            0          2          2               0         1200   \n",
       "3            0          2          3               2         2000   \n",
       "4            0          2         12               2         1300   \n",
       "..         ...        ...        ...             ...          ...   \n",
       "475         30          6         12               2         2100   \n",
       "476         30          6          1               1         1400   \n",
       "477         30          6         16               0         1300   \n",
       "478         30          6          2               2         1300   \n",
       "479         30          6         11               1         1700   \n",
       "\n",
       "     race_track_condition  best_rating_seconds  \\\n",
       "0                       0                84.50   \n",
       "1                       0                93.63   \n",
       "2                       0                71.37   \n",
       "3                       0               138.40   \n",
       "4                       0                78.11   \n",
       "..                    ...                  ...   \n",
       "475                     0               133.86   \n",
       "476                     0                95.56   \n",
       "477                     0                79.29   \n",
       "478                     0                79.29   \n",
       "479                     0               116.86   \n",
       "\n",
       "     race_track_type_Dirt (Polytrack)  race_race_group_English  \\\n",
       "0                                   0                        1   \n",
       "1                                   0                        0   \n",
       "2                                   0                        1   \n",
       "3                                   0                        0   \n",
       "4                                   0                        1   \n",
       "..                                ...                      ...   \n",
       "475                                 0                        1   \n",
       "476                                 0                        0   \n",
       "477                                 0                        1   \n",
       "478                                 0                        1   \n",
       "479                                 0                        0   \n",
       "\n",
       "     race_sex_group_Undefined  \n",
       "0                           1  \n",
       "1                           1  \n",
       "2                           0  \n",
       "3                           1  \n",
       "4                           1  \n",
       "..                        ...  \n",
       "475                         1  \n",
       "476                         0  \n",
       "477                         1  \n",
       "478                         1  \n",
       "479                         1  \n",
       "\n",
       "[480 rows x 10 columns]"
      ]
     },
     "execution_count": 17,
     "metadata": {},
     "output_type": "execute_result"
    }
   ],
   "source": [
    "df"
   ]
  },
  {
   "cell_type": "code",
   "execution_count": 18,
   "id": "fac9a079",
   "metadata": {},
   "outputs": [
    {
     "name": "stdout",
     "output_type": "stream",
     "text": [
      "<class 'pandas.core.frame.DataFrame'>\n",
      "RangeIndex: 480 entries, 0 to 479\n",
      "Data columns (total 10 columns):\n",
      " #   Column                            Non-Null Count  Dtype  \n",
      "---  ------                            --------------  -----  \n",
      " 0   race_date                         480 non-null    int32  \n",
      " 1   race_city                         480 non-null    int32  \n",
      " 2   race_type                         480 non-null    int32  \n",
      " 3   race_age_group                    480 non-null    int32  \n",
      " 4   race_length                       480 non-null    int64  \n",
      " 5   race_track_condition              480 non-null    int32  \n",
      " 6   best_rating_seconds               480 non-null    float64\n",
      " 7   race_track_type_Dirt (Polytrack)  480 non-null    uint8  \n",
      " 8   race_race_group_English           480 non-null    uint8  \n",
      " 9   race_sex_group_Undefined          480 non-null    uint8  \n",
      "dtypes: float64(1), int32(5), int64(1), uint8(3)\n",
      "memory usage: 18.4 KB\n"
     ]
    }
   ],
   "source": [
    "df.info()"
   ]
  },
  {
   "cell_type": "code",
   "execution_count": 19,
   "id": "39a5c5d5",
   "metadata": {},
   "outputs": [],
   "source": [
    "x = df.drop(['best_rating_seconds'], axis=1)\n",
    "y = df['best_rating_seconds']"
   ]
  },
  {
   "cell_type": "code",
   "execution_count": 20,
   "id": "03aaa5b8",
   "metadata": {},
   "outputs": [],
   "source": [
    "x_train,x_test,y_train,y_test=train_test_split(x,y,random_state=42,train_size=0.70)"
   ]
  },
  {
   "cell_type": "code",
   "execution_count": 21,
   "id": "459ed4fb",
   "metadata": {},
   "outputs": [
    {
     "data": {
      "text/plain": [
       "0.9943632754477446"
      ]
     },
     "execution_count": 21,
     "metadata": {},
     "output_type": "execute_result"
    }
   ],
   "source": [
    "lr = LinearRegression()\n",
    "model1 = lr.fit(x_train,y_train)\n",
    "model1.score(x_test,y_test)"
   ]
  },
  {
   "cell_type": "code",
   "execution_count": 22,
   "id": "2819ee88",
   "metadata": {},
   "outputs": [
    {
     "data": {
      "text/plain": [
       "0.9940290609926044"
      ]
     },
     "execution_count": 22,
     "metadata": {},
     "output_type": "execute_result"
    }
   ],
   "source": [
    "rf = RandomForestRegressor(n_estimators=200)\n",
    "model2 = rf.fit(x_train, y_train)\n",
    "model2.score(x_test,y_test)"
   ]
  },
  {
   "cell_type": "code",
   "execution_count": 24,
   "id": "3f8f054f",
   "metadata": {},
   "outputs": [
    {
     "name": "stdout",
     "output_type": "stream",
     "text": [
      "Linear Regression Training Accuracy: 0.9968879355449048\n",
      "Linear Regression Testing Accuracy: 0.9943632754477446\n"
     ]
    }
   ],
   "source": [
    "print(\"Linear Regression Training Accuracy:\", model1.score(x_train , y_train))\n",
    "print(\"Linear Regression Testing Accuracy:\", model1.score(x_test , y_test))"
   ]
  },
  {
   "cell_type": "code",
   "execution_count": 25,
   "id": "bcdf7515",
   "metadata": {},
   "outputs": [
    {
     "name": "stdout",
     "output_type": "stream",
     "text": [
      "Random Forest Training Accuracy: 0.9997695043241018\n",
      "Random Forest Testing Accuracy: 0.9940290609926044\n"
     ]
    }
   ],
   "source": [
    "print(\"Random Forest Training Accuracy:\", model2.score(x_train , y_train))\n",
    "print(\"Random Forest Testing Accuracy:\", model2.score(x_test , y_test))"
   ]
  },
  {
   "cell_type": "code",
   "execution_count": 34,
   "id": "a194a18f",
   "metadata": {},
   "outputs": [],
   "source": [
    "sample=np.array(x.iloc[250])"
   ]
  },
  {
   "cell_type": "code",
   "execution_count": 35,
   "id": "4bd6b593",
   "metadata": {},
   "outputs": [
    {
     "name": "stderr",
     "output_type": "stream",
     "text": [
      "C:\\Users\\MERAL\\anaconda3\\lib\\site-packages\\sklearn\\base.py:450: UserWarning: X does not have valid feature names, but LinearRegression was fitted with feature names\n",
      "  warnings.warn(\n"
     ]
    },
    {
     "data": {
      "text/plain": [
       "array([80.60510069])"
      ]
     },
     "execution_count": 35,
     "metadata": {},
     "output_type": "execute_result"
    }
   ],
   "source": [
    "model1.predict([sample])"
   ]
  },
  {
   "cell_type": "code",
   "execution_count": 36,
   "id": "122c1f95",
   "metadata": {},
   "outputs": [
    {
     "data": {
      "text/plain": [
       "80.38"
      ]
     },
     "execution_count": 36,
     "metadata": {},
     "output_type": "execute_result"
    }
   ],
   "source": [
    "y.iloc[250]"
   ]
  },
  {
   "cell_type": "code",
   "execution_count": 37,
   "id": "8aaf4212",
   "metadata": {},
   "outputs": [
    {
     "name": "stderr",
     "output_type": "stream",
     "text": [
      "C:\\Users\\MERAL\\anaconda3\\lib\\site-packages\\sklearn\\base.py:450: UserWarning: X does not have valid feature names, but RandomForestRegressor was fitted with feature names\n",
      "  warnings.warn(\n"
     ]
    },
    {
     "data": {
      "text/plain": [
       "array([80.37535])"
      ]
     },
     "execution_count": 37,
     "metadata": {},
     "output_type": "execute_result"
    }
   ],
   "source": [
    "model2.predict([sample])"
   ]
  },
  {
   "cell_type": "code",
   "execution_count": 39,
   "id": "e8730061",
   "metadata": {},
   "outputs": [
    {
     "name": "stderr",
     "output_type": "stream",
     "text": [
      "C:\\Users\\MERAL\\anaconda3\\lib\\site-packages\\seaborn\\_decorators.py:36: FutureWarning: Pass the following variables as keyword args: x, y. From version 0.12, the only valid positional argument will be `data`, and passing other arguments without an explicit keyword will result in an error or misinterpretation.\n",
      "  warnings.warn(\n"
     ]
    },
    {
     "data": {
      "image/png": "[encoded data removed]",
      "text/plain": [
       "<Figure size 600x600 with 1 Axes>"
      ]
     },
     "metadata": {},
     "output_type": "display_data"
    }
   ],
   "source": [
    "y_pred = model1.predict(x_test)\n",
    "plt.figure(figsize=(6,6))\n",
    "sns.regplot(y_pred, y_test)\n",
    "plt.title(\"The correlation line between predictions and the actual values\")\n",
    "plt.show()"
   ]
  },
  {
   "cell_type": "code",
   "execution_count": null,
   "id": "af00a9af",
   "metadata": {},
   "outputs": [],
   "source": []
  }
 ],
 "metadata": {
  "kernelspec": {
   "display_name": "Python 3 (ipykernel)",
   "language": "python",
   "name": "python3"
  },
  "language_info": {
   "codemirror_mode": {
    "name": "ipython",
    "version": 3
   },
   "file_extension": ".py",
   "mimetype": "text/x-python",
   "name": "python",
   "nbconvert_exporter": "python",
   "pygments_lexer": "ipython3",
   "version": "3.9.13"
  }
 },
 "nbformat": 4,
 "nbformat_minor": 5
}
