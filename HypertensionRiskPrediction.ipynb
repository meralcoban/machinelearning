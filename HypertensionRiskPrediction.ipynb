{
 "cells": [
  {
   "cell_type": "code",
   "execution_count": 51,
   "id": "bb98674e",
   "metadata": {},
   "outputs": [],
   "source": [
    "import numpy as np\n",
    "import pandas as pd\n",
    "from sklearn.tree import DecisionTreeClassifier\n",
    "from sklearn.model_selection import train_test_split\n",
    "from sklearn.ensemble import RandomForestClassifier\n",
    "from sklearn.metrics import accuracy_score, classification_report\n",
    "import matplotlib.pyplot as plt\n",
    "import seaborn as sns\n",
    "from sklearn.metrics import log_loss, roc_auc_score, roc_curve"
   ]
  },
  {
   "cell_type": "code",
   "execution_count": 26,
   "id": "c3f5e6f1",
   "metadata": {},
   "outputs": [],
   "source": [
    "df = pd.read_csv(\"HypertensionRisk.csv\")"
   ]
  },
  {
   "cell_type": "code",
   "execution_count": 27,
   "id": "ed8dbff2",
   "metadata": {},
   "outputs": [
    {
     "data": {
      "text/html": [
       "<div>\n",
       "<style scoped>\n",
       "    .dataframe tbody tr th:only-of-type {\n",
       "        vertical-align: middle;\n",
       "    }\n",
       "\n",
       "    .dataframe tbody tr th {\n",
       "        vertical-align: top;\n",
       "    }\n",
       "\n",
       "    .dataframe thead th {\n",
       "        text-align: right;\n",
       "    }\n",
       "</style>\n",
       "<table border=\"1\" class=\"dataframe\">\n",
       "  <thead>\n",
       "    <tr style=\"text-align: right;\">\n",
       "      <th></th>\n",
       "      <th>male</th>\n",
       "      <th>age</th>\n",
       "      <th>currentSmoker</th>\n",
       "      <th>cigsPerDay</th>\n",
       "      <th>BPMeds</th>\n",
       "      <th>diabetes</th>\n",
       "      <th>totChol</th>\n",
       "      <th>sysBP</th>\n",
       "      <th>diaBP</th>\n",
       "      <th>BMI</th>\n",
       "      <th>heartRate</th>\n",
       "      <th>glucose</th>\n",
       "      <th>Risk</th>\n",
       "    </tr>\n",
       "  </thead>\n",
       "  <tbody>\n",
       "    <tr>\n",
       "      <th>0</th>\n",
       "      <td>1</td>\n",
       "      <td>39</td>\n",
       "      <td>0</td>\n",
       "      <td>0.0</td>\n",
       "      <td>0.0</td>\n",
       "      <td>0</td>\n",
       "      <td>195.0</td>\n",
       "      <td>106.0</td>\n",
       "      <td>70.0</td>\n",
       "      <td>26.97</td>\n",
       "      <td>80.0</td>\n",
       "      <td>77.0</td>\n",
       "      <td>0</td>\n",
       "    </tr>\n",
       "    <tr>\n",
       "      <th>1</th>\n",
       "      <td>0</td>\n",
       "      <td>46</td>\n",
       "      <td>0</td>\n",
       "      <td>0.0</td>\n",
       "      <td>0.0</td>\n",
       "      <td>0</td>\n",
       "      <td>250.0</td>\n",
       "      <td>121.0</td>\n",
       "      <td>81.0</td>\n",
       "      <td>28.73</td>\n",
       "      <td>95.0</td>\n",
       "      <td>76.0</td>\n",
       "      <td>0</td>\n",
       "    </tr>\n",
       "    <tr>\n",
       "      <th>2</th>\n",
       "      <td>1</td>\n",
       "      <td>48</td>\n",
       "      <td>1</td>\n",
       "      <td>20.0</td>\n",
       "      <td>0.0</td>\n",
       "      <td>0</td>\n",
       "      <td>245.0</td>\n",
       "      <td>127.5</td>\n",
       "      <td>80.0</td>\n",
       "      <td>25.34</td>\n",
       "      <td>75.0</td>\n",
       "      <td>70.0</td>\n",
       "      <td>0</td>\n",
       "    </tr>\n",
       "    <tr>\n",
       "      <th>3</th>\n",
       "      <td>0</td>\n",
       "      <td>61</td>\n",
       "      <td>1</td>\n",
       "      <td>30.0</td>\n",
       "      <td>0.0</td>\n",
       "      <td>0</td>\n",
       "      <td>225.0</td>\n",
       "      <td>150.0</td>\n",
       "      <td>95.0</td>\n",
       "      <td>28.58</td>\n",
       "      <td>65.0</td>\n",
       "      <td>103.0</td>\n",
       "      <td>1</td>\n",
       "    </tr>\n",
       "    <tr>\n",
       "      <th>4</th>\n",
       "      <td>0</td>\n",
       "      <td>46</td>\n",
       "      <td>1</td>\n",
       "      <td>23.0</td>\n",
       "      <td>0.0</td>\n",
       "      <td>0</td>\n",
       "      <td>285.0</td>\n",
       "      <td>130.0</td>\n",
       "      <td>84.0</td>\n",
       "      <td>23.10</td>\n",
       "      <td>85.0</td>\n",
       "      <td>85.0</td>\n",
       "      <td>0</td>\n",
       "    </tr>\n",
       "    <tr>\n",
       "      <th>...</th>\n",
       "      <td>...</td>\n",
       "      <td>...</td>\n",
       "      <td>...</td>\n",
       "      <td>...</td>\n",
       "      <td>...</td>\n",
       "      <td>...</td>\n",
       "      <td>...</td>\n",
       "      <td>...</td>\n",
       "      <td>...</td>\n",
       "      <td>...</td>\n",
       "      <td>...</td>\n",
       "      <td>...</td>\n",
       "      <td>...</td>\n",
       "    </tr>\n",
       "    <tr>\n",
       "      <th>4235</th>\n",
       "      <td>0</td>\n",
       "      <td>48</td>\n",
       "      <td>1</td>\n",
       "      <td>20.0</td>\n",
       "      <td>NaN</td>\n",
       "      <td>0</td>\n",
       "      <td>248.0</td>\n",
       "      <td>131.0</td>\n",
       "      <td>72.0</td>\n",
       "      <td>22.00</td>\n",
       "      <td>84.0</td>\n",
       "      <td>86.0</td>\n",
       "      <td>0</td>\n",
       "    </tr>\n",
       "    <tr>\n",
       "      <th>4236</th>\n",
       "      <td>0</td>\n",
       "      <td>44</td>\n",
       "      <td>1</td>\n",
       "      <td>15.0</td>\n",
       "      <td>0.0</td>\n",
       "      <td>0</td>\n",
       "      <td>210.0</td>\n",
       "      <td>126.5</td>\n",
       "      <td>87.0</td>\n",
       "      <td>19.16</td>\n",
       "      <td>86.0</td>\n",
       "      <td>NaN</td>\n",
       "      <td>0</td>\n",
       "    </tr>\n",
       "    <tr>\n",
       "      <th>4237</th>\n",
       "      <td>0</td>\n",
       "      <td>52</td>\n",
       "      <td>0</td>\n",
       "      <td>0.0</td>\n",
       "      <td>0.0</td>\n",
       "      <td>0</td>\n",
       "      <td>269.0</td>\n",
       "      <td>133.5</td>\n",
       "      <td>83.0</td>\n",
       "      <td>21.47</td>\n",
       "      <td>80.0</td>\n",
       "      <td>107.0</td>\n",
       "      <td>0</td>\n",
       "    </tr>\n",
       "    <tr>\n",
       "      <th>4238</th>\n",
       "      <td>1</td>\n",
       "      <td>40</td>\n",
       "      <td>0</td>\n",
       "      <td>0.0</td>\n",
       "      <td>0.0</td>\n",
       "      <td>0</td>\n",
       "      <td>185.0</td>\n",
       "      <td>141.0</td>\n",
       "      <td>98.0</td>\n",
       "      <td>25.60</td>\n",
       "      <td>67.0</td>\n",
       "      <td>72.0</td>\n",
       "      <td>1</td>\n",
       "    </tr>\n",
       "    <tr>\n",
       "      <th>4239</th>\n",
       "      <td>0</td>\n",
       "      <td>39</td>\n",
       "      <td>1</td>\n",
       "      <td>30.0</td>\n",
       "      <td>0.0</td>\n",
       "      <td>0</td>\n",
       "      <td>196.0</td>\n",
       "      <td>133.0</td>\n",
       "      <td>86.0</td>\n",
       "      <td>20.91</td>\n",
       "      <td>85.0</td>\n",
       "      <td>80.0</td>\n",
       "      <td>0</td>\n",
       "    </tr>\n",
       "  </tbody>\n",
       "</table>\n",
       "<p>4240 rows × 13 columns</p>\n",
       "</div>"
      ],
      "text/plain": [
       "      male  age  currentSmoker  cigsPerDay  BPMeds  diabetes  totChol  sysBP  \\\n",
       "0        1   39              0         0.0     0.0         0    195.0  106.0   \n",
       "1        0   46              0         0.0     0.0         0    250.0  121.0   \n",
       "2        1   48              1        20.0     0.0         0    245.0  127.5   \n",
       "3        0   61              1        30.0     0.0         0    225.0  150.0   \n",
       "4        0   46              1        23.0     0.0         0    285.0  130.0   \n",
       "...    ...  ...            ...         ...     ...       ...      ...    ...   \n",
       "4235     0   48              1        20.0     NaN         0    248.0  131.0   \n",
       "4236     0   44              1        15.0     0.0         0    210.0  126.5   \n",
       "4237     0   52              0         0.0     0.0         0    269.0  133.5   \n",
       "4238     1   40              0         0.0     0.0         0    185.0  141.0   \n",
       "4239     0   39              1        30.0     0.0         0    196.0  133.0   \n",
       "\n",
       "      diaBP    BMI  heartRate  glucose  Risk  \n",
       "0      70.0  26.97       80.0     77.0     0  \n",
       "1      81.0  28.73       95.0     76.0     0  \n",
       "2      80.0  25.34       75.0     70.0     0  \n",
       "3      95.0  28.58       65.0    103.0     1  \n",
       "4      84.0  23.10       85.0     85.0     0  \n",
       "...     ...    ...        ...      ...   ...  \n",
       "4235   72.0  22.00       84.0     86.0     0  \n",
       "4236   87.0  19.16       86.0      NaN     0  \n",
       "4237   83.0  21.47       80.0    107.0     0  \n",
       "4238   98.0  25.60       67.0     72.0     1  \n",
       "4239   86.0  20.91       85.0     80.0     0  \n",
       "\n",
       "[4240 rows x 13 columns]"
      ]
     },
     "execution_count": 27,
     "metadata": {},
     "output_type": "execute_result"
    }
   ],
   "source": [
    "df"
   ]
  },
  {
   "cell_type": "code",
   "execution_count": 28,
   "id": "707a4657",
   "metadata": {},
   "outputs": [
    {
     "name": "stdout",
     "output_type": "stream",
     "text": [
      "<class 'pandas.core.frame.DataFrame'>\n",
      "RangeIndex: 4240 entries, 0 to 4239\n",
      "Data columns (total 13 columns):\n",
      " #   Column         Non-Null Count  Dtype  \n",
      "---  ------         --------------  -----  \n",
      " 0   male           4240 non-null   int64  \n",
      " 1   age            4240 non-null   int64  \n",
      " 2   currentSmoker  4240 non-null   int64  \n",
      " 3   cigsPerDay     4211 non-null   float64\n",
      " 4   BPMeds         4187 non-null   float64\n",
      " 5   diabetes       4240 non-null   int64  \n",
      " 6   totChol        4190 non-null   float64\n",
      " 7   sysBP          4240 non-null   float64\n",
      " 8   diaBP          4240 non-null   float64\n",
      " 9   BMI            4221 non-null   float64\n",
      " 10  heartRate      4239 non-null   float64\n",
      " 11  glucose        3852 non-null   float64\n",
      " 12  Risk           4240 non-null   int64  \n",
      "dtypes: float64(8), int64(5)\n",
      "memory usage: 430.8 KB\n"
     ]
    }
   ],
   "source": [
    "df.info()"
   ]
  },
  {
   "cell_type": "code",
   "execution_count": 29,
   "id": "d8096b3f",
   "metadata": {},
   "outputs": [],
   "source": [
    "df=df.dropna()"
   ]
  },
  {
   "cell_type": "code",
   "execution_count": 30,
   "id": "7f2ccc5c",
   "metadata": {},
   "outputs": [
    {
     "name": "stdout",
     "output_type": "stream",
     "text": [
      "<class 'pandas.core.frame.DataFrame'>\n",
      "Int64Index: 3751 entries, 0 to 4239\n",
      "Data columns (total 13 columns):\n",
      " #   Column         Non-Null Count  Dtype  \n",
      "---  ------         --------------  -----  \n",
      " 0   male           3751 non-null   int64  \n",
      " 1   age            3751 non-null   int64  \n",
      " 2   currentSmoker  3751 non-null   int64  \n",
      " 3   cigsPerDay     3751 non-null   float64\n",
      " 4   BPMeds         3751 non-null   float64\n",
      " 5   diabetes       3751 non-null   int64  \n",
      " 6   totChol        3751 non-null   float64\n",
      " 7   sysBP          3751 non-null   float64\n",
      " 8   diaBP          3751 non-null   float64\n",
      " 9   BMI            3751 non-null   float64\n",
      " 10  heartRate      3751 non-null   float64\n",
      " 11  glucose        3751 non-null   float64\n",
      " 12  Risk           3751 non-null   int64  \n",
      "dtypes: float64(8), int64(5)\n",
      "memory usage: 410.3 KB\n"
     ]
    }
   ],
   "source": [
    "df.info()"
   ]
  },
  {
   "cell_type": "code",
   "execution_count": 36,
   "id": "dd5a8344",
   "metadata": {
    "scrolled": true
   },
   "outputs": [],
   "source": [
    "y=df[\"Risk\"]\n",
    "x=df.drop(\"Risk\", axis=1)\n",
    "x_train,x_test,y_train,y_test=train_test_split(x,y,random_state=12,train_size=0.70)"
   ]
  },
  {
   "cell_type": "code",
   "execution_count": 41,
   "id": "ddd58d77",
   "metadata": {},
   "outputs": [
    {
     "data": {
      "text/plain": [
       "0.8579040852575488"
      ]
     },
     "execution_count": 41,
     "metadata": {},
     "output_type": "execute_result"
    }
   ],
   "source": [
    "dt = DecisionTreeClassifier()\n",
    "model1= dt.fit(x_train,y_train)\n",
    "model1.score(x_test,y_test)"
   ]
  },
  {
   "cell_type": "code",
   "execution_count": 44,
   "id": "8ff232c4",
   "metadata": {},
   "outputs": [
    {
     "name": "stdout",
     "output_type": "stream",
     "text": [
      "Accuracy: 0.8579040852575488\n",
      "\n",
      "Classification Report:\n",
      "              precision    recall  f1-score   support\n",
      "\n",
      "           0       0.90      0.89      0.90       780\n",
      "           1       0.76      0.78      0.77       346\n",
      "\n",
      "    accuracy                           0.86      1126\n",
      "   macro avg       0.83      0.84      0.83      1126\n",
      "weighted avg       0.86      0.86      0.86      1126\n",
      "\n"
     ]
    }
   ],
   "source": [
    "predictions = model1.predict(x_test)\n",
    "accuracy = accuracy_score(y_test, predictions)\n",
    "\n",
    "print(\"Accuracy:\", accuracy)\n",
    "print(\"\\nClassification Report:\")\n",
    "print(classification_report(y_test, predictions))"
   ]
  },
  {
   "cell_type": "code",
   "execution_count": 66,
   "id": "6fe25703",
   "metadata": {},
   "outputs": [
    {
     "data": {
      "text/plain": [
       "0.9085257548845471"
      ]
     },
     "execution_count": 66,
     "metadata": {},
     "output_type": "execute_result"
    }
   ],
   "source": [
    "rf = RandomForestClassifier(n_estimators=340,min_samples_split=200,min_samples_leaf=5,max_features=7,max_depth=8,criterion='gini',n_jobs=-1)\n",
    "model2= rf.fit(x_train,y_train)\n",
    "model2.score(x_test,y_test)"
   ]
  },
  {
   "cell_type": "code",
   "execution_count": 67,
   "id": "cc9cd8a0",
   "metadata": {},
   "outputs": [
    {
     "name": "stdout",
     "output_type": "stream",
     "text": [
      "Accuracy: 0.9085257548845471\n",
      "\n",
      "Classification Report:\n",
      "              precision    recall  f1-score   support\n",
      "\n",
      "           0       0.97      0.90      0.93       780\n",
      "           1       0.80      0.94      0.86       346\n",
      "\n",
      "    accuracy                           0.91      1126\n",
      "   macro avg       0.88      0.92      0.90      1126\n",
      "weighted avg       0.92      0.91      0.91      1126\n",
      "\n"
     ]
    }
   ],
   "source": [
    "predictions = model2.predict(x_test)\n",
    "accuracy = accuracy_score(y_test, predictions)\n",
    "\n",
    "print(\"Accuracy:\", accuracy)\n",
    "print(\"\\nClassification Report:\")\n",
    "print(classification_report(y_test, predictions))"
   ]
  },
  {
   "cell_type": "code",
   "execution_count": 68,
   "id": "356dc9df",
   "metadata": {},
   "outputs": [
    {
     "name": "stdout",
     "output_type": "stream",
     "text": [
      "The log loss of our model on the training set is : 0.2336\n",
      "The ROC AUC of our model on the training set is : 0.963\n"
     ]
    }
   ],
   "source": [
    "train_y_hat=rf.predict_proba(x_train)\n",
    "naive_train_log_loss=log_loss(y_train, train_y_hat[:,1])\n",
    "naive_train_roc_auc=roc_auc_score(y_train, train_y_hat[:,1])\n",
    "print('The log loss of our model on the training set is : ' +str(round(naive_train_log_loss, 4)))\n",
    "print('The ROC AUC of our model on the training set is : ' +str(round(naive_train_roc_auc, 3)))"
   ]
  },
  {
   "cell_type": "code",
   "execution_count": 69,
   "id": "d5576ee7",
   "metadata": {},
   "outputs": [
    {
     "name": "stdout",
     "output_type": "stream",
     "text": [
      "The log loss of our model on the test set is : 0.24\n",
      "The ROC AUC of our model on the test set is : 0.954\n"
     ]
    }
   ],
   "source": [
    "test_y_hat=rf.predict_proba(x_test)\n",
    "naive_test_log_loss=log_loss(y_test, test_y_hat[:,1])\n",
    "naive_test_roc_auc=roc_auc_score(y_test, test_y_hat[:,1])\n",
    "print('The log loss of our model on the test set is : ' +str(round(naive_test_log_loss, 4)))\n",
    "print('The ROC AUC of our model on the test set is : ' +str(round(naive_test_roc_auc, 3)))"
   ]
  },
  {
   "cell_type": "code",
   "execution_count": 70,
   "id": "500242f4",
   "metadata": {},
   "outputs": [],
   "source": [
    "train_fpr, train_tpr, train_thresholds = roc_curve(y_true=y_train, y_score=train_y_hat[:,1])\n",
    "test_fpr, test_tpr, test_thresholds = roc_curve(y_true=y_test, y_score=test_y_hat[:,1])"
   ]
  },
  {
   "cell_type": "code",
   "execution_count": 71,
   "id": "fe0eb31b",
   "metadata": {},
   "outputs": [
    {
     "data": {
      "image/png": "[encoded data removed]",
      "text/plain": [
       "<Figure size 640x480 with 1 Axes>"
      ]
     },
     "metadata": {},
     "output_type": "display_data"
    }
   ],
   "source": [
    "plt.plot(train_fpr, train_tpr, label='Train ROC AUC')\n",
    "plt.plot(test_fpr, test_tpr, label='Test ROC AUC')\n",
    "plt.plot([0, 1], [0, 1], color = 'black', linewidth = 2, linestyle = '--')\n",
    "plt.xlabel('False Positive Rate')\n",
    "plt.ylabel('True Positive Rate')\n",
    "plt.legend()\n",
    "plt.title('ROC AUC Curve For Random Forest Model On Train vs Test Set')\n",
    "plt.show()"
   ]
  }
 ],
 "metadata": {
  "kernelspec": {
   "display_name": "Python 3 (ipykernel)",
   "language": "python",
   "name": "python3"
  },
  "language_info": {
   "codemirror_mode": {
    "name": "ipython",
    "version": 3
   },
   "file_extension": ".py",
   "mimetype": "text/x-python",
   "name": "python",
   "nbconvert_exporter": "python",
   "pygments_lexer": "ipython3",
   "version": "3.9.13"
  }
 },
 "nbformat": 4,
 "nbformat_minor": 5
}
