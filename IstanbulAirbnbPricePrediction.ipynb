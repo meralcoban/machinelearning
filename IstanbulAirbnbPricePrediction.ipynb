{
 "cells": [
  {
   "cell_type": "code",
   "execution_count": 71,
   "id": "6817729d",
   "metadata": {},
   "outputs": [],
   "source": [
    "import pandas as pd\n",
    "import numpy as np\n",
    "from sklearn.ensemble import RandomForestRegressor\n",
    "from sklearn.model_selection import train_test_split\n",
    "from sklearn.preprocessing import LabelEncoder\n",
    "from sklearn.preprocessing import StandardScaler\n",
    "from sklearn.metrics import mean_squared_error, mean_absolute_percentage_error\n",
    "from sklearn.tree import DecisionTreeClassifier\n",
    "import matplotlib.pyplot as plt\n",
    "import seaborn as sns"
   ]
  },
  {
   "cell_type": "code",
   "execution_count": 45,
   "id": "58fc161f",
   "metadata": {},
   "outputs": [],
   "source": [
    "df = pd.read_csv(\"airbnb.csv\")"
   ]
  },
  {
   "cell_type": "code",
   "execution_count": 46,
   "id": "ad8aaeaf",
   "metadata": {},
   "outputs": [
    {
     "data": {
      "text/html": [
       "<div>\n",
       "<style scoped>\n",
       "    .dataframe tbody tr th:only-of-type {\n",
       "        vertical-align: middle;\n",
       "    }\n",
       "\n",
       "    .dataframe tbody tr th {\n",
       "        vertical-align: top;\n",
       "    }\n",
       "\n",
       "    .dataframe thead th {\n",
       "        text-align: right;\n",
       "    }\n",
       "</style>\n",
       "<table border=\"1\" class=\"dataframe\">\n",
       "  <thead>\n",
       "    <tr style=\"text-align: right;\">\n",
       "      <th></th>\n",
       "      <th>id</th>\n",
       "      <th>name</th>\n",
       "      <th>host_id</th>\n",
       "      <th>host_name</th>\n",
       "      <th>neighbourhood_group</th>\n",
       "      <th>neighbourhood</th>\n",
       "      <th>latitude</th>\n",
       "      <th>longitude</th>\n",
       "      <th>room_type</th>\n",
       "      <th>price</th>\n",
       "      <th>minimum_nights</th>\n",
       "      <th>number_of_reviews</th>\n",
       "      <th>last_review</th>\n",
       "      <th>reviews_per_month</th>\n",
       "      <th>calculated_host_listings_count</th>\n",
       "      <th>availability_365</th>\n",
       "    </tr>\n",
       "  </thead>\n",
       "  <tbody>\n",
       "    <tr>\n",
       "      <th>0</th>\n",
       "      <td>4826</td>\n",
       "      <td>The Place</td>\n",
       "      <td>6603</td>\n",
       "      <td>Kaan</td>\n",
       "      <td>NaN</td>\n",
       "      <td>Uskudar</td>\n",
       "      <td>41.05650</td>\n",
       "      <td>29.05367</td>\n",
       "      <td>Entire home/apt</td>\n",
       "      <td>720</td>\n",
       "      <td>1</td>\n",
       "      <td>1</td>\n",
       "      <td>2009-06-01</td>\n",
       "      <td>0.01</td>\n",
       "      <td>1</td>\n",
       "      <td>365</td>\n",
       "    </tr>\n",
       "    <tr>\n",
       "      <th>1</th>\n",
       "      <td>20815</td>\n",
       "      <td>The Bosphorus from The Comfy Hill</td>\n",
       "      <td>78838</td>\n",
       "      <td>Gülder</td>\n",
       "      <td>NaN</td>\n",
       "      <td>Besiktas</td>\n",
       "      <td>41.06984</td>\n",
       "      <td>29.04545</td>\n",
       "      <td>Entire home/apt</td>\n",
       "      <td>816</td>\n",
       "      <td>365</td>\n",
       "      <td>41</td>\n",
       "      <td>2018-11-07</td>\n",
       "      <td>0.33</td>\n",
       "      <td>2</td>\n",
       "      <td>279</td>\n",
       "    </tr>\n",
       "    <tr>\n",
       "      <th>2</th>\n",
       "      <td>27271</td>\n",
       "      <td>LOVELY APT. IN PERFECT LOCATION</td>\n",
       "      <td>117026</td>\n",
       "      <td>Mutlu</td>\n",
       "      <td>NaN</td>\n",
       "      <td>Beyoglu</td>\n",
       "      <td>41.03254</td>\n",
       "      <td>28.98153</td>\n",
       "      <td>Entire home/apt</td>\n",
       "      <td>233</td>\n",
       "      <td>30</td>\n",
       "      <td>13</td>\n",
       "      <td>2018-05-04</td>\n",
       "      <td>0.19</td>\n",
       "      <td>1</td>\n",
       "      <td>289</td>\n",
       "    </tr>\n",
       "    <tr>\n",
       "      <th>3</th>\n",
       "      <td>28277</td>\n",
       "      <td>Duplex Apartment with Terrace</td>\n",
       "      <td>121607</td>\n",
       "      <td>Alen</td>\n",
       "      <td>NaN</td>\n",
       "      <td>Sisli</td>\n",
       "      <td>41.04471</td>\n",
       "      <td>28.98567</td>\n",
       "      <td>Hotel room</td>\n",
       "      <td>761</td>\n",
       "      <td>3</td>\n",
       "      <td>0</td>\n",
       "      <td>NaN</td>\n",
       "      <td>NaN</td>\n",
       "      <td>19</td>\n",
       "      <td>365</td>\n",
       "    </tr>\n",
       "    <tr>\n",
       "      <th>4</th>\n",
       "      <td>28318</td>\n",
       "      <td>Cosy home overlooking Bosphorus</td>\n",
       "      <td>121721</td>\n",
       "      <td>Aydin</td>\n",
       "      <td>NaN</td>\n",
       "      <td>Sariyer</td>\n",
       "      <td>41.09048</td>\n",
       "      <td>29.05559</td>\n",
       "      <td>Entire home/apt</td>\n",
       "      <td>823</td>\n",
       "      <td>3</td>\n",
       "      <td>0</td>\n",
       "      <td>NaN</td>\n",
       "      <td>NaN</td>\n",
       "      <td>1</td>\n",
       "      <td>88</td>\n",
       "    </tr>\n",
       "  </tbody>\n",
       "</table>\n",
       "</div>"
      ],
      "text/plain": [
       "      id                               name  host_id host_name  \\\n",
       "0   4826                          The Place     6603      Kaan   \n",
       "1  20815  The Bosphorus from The Comfy Hill    78838    Gülder   \n",
       "2  27271    LOVELY APT. IN PERFECT LOCATION   117026     Mutlu   \n",
       "3  28277      Duplex Apartment with Terrace   121607      Alen   \n",
       "4  28318    Cosy home overlooking Bosphorus   121721     Aydin   \n",
       "\n",
       "   neighbourhood_group neighbourhood  latitude  longitude        room_type  \\\n",
       "0                  NaN       Uskudar  41.05650   29.05367  Entire home/apt   \n",
       "1                  NaN      Besiktas  41.06984   29.04545  Entire home/apt   \n",
       "2                  NaN       Beyoglu  41.03254   28.98153  Entire home/apt   \n",
       "3                  NaN         Sisli  41.04471   28.98567       Hotel room   \n",
       "4                  NaN       Sariyer  41.09048   29.05559  Entire home/apt   \n",
       "\n",
       "   price  minimum_nights  number_of_reviews last_review  reviews_per_month  \\\n",
       "0    720               1                  1  2009-06-01               0.01   \n",
       "1    816             365                 41  2018-11-07               0.33   \n",
       "2    233              30                 13  2018-05-04               0.19   \n",
       "3    761               3                  0         NaN                NaN   \n",
       "4    823               3                  0         NaN                NaN   \n",
       "\n",
       "   calculated_host_listings_count  availability_365  \n",
       "0                               1               365  \n",
       "1                               2               279  \n",
       "2                               1               289  \n",
       "3                              19               365  \n",
       "4                               1                88  "
      ]
     },
     "execution_count": 46,
     "metadata": {},
     "output_type": "execute_result"
    }
   ],
   "source": [
    "df.head()"
   ]
  },
  {
   "cell_type": "code",
   "execution_count": 47,
   "id": "a293169e",
   "metadata": {},
   "outputs": [],
   "source": [
    "df = df.drop(columns=[\"id\", \"name\", \"host_id\", \"host_name\", \"neighbourhood_group\", \"last_review\",\"reviews_per_month\"])"
   ]
  },
  {
   "cell_type": "code",
   "execution_count": 48,
   "id": "187fd02d",
   "metadata": {},
   "outputs": [
    {
     "data": {
      "text/html": [
       "<div>\n",
       "<style scoped>\n",
       "    .dataframe tbody tr th:only-of-type {\n",
       "        vertical-align: middle;\n",
       "    }\n",
       "\n",
       "    .dataframe tbody tr th {\n",
       "        vertical-align: top;\n",
       "    }\n",
       "\n",
       "    .dataframe thead th {\n",
       "        text-align: right;\n",
       "    }\n",
       "</style>\n",
       "<table border=\"1\" class=\"dataframe\">\n",
       "  <thead>\n",
       "    <tr style=\"text-align: right;\">\n",
       "      <th></th>\n",
       "      <th>neighbourhood</th>\n",
       "      <th>latitude</th>\n",
       "      <th>longitude</th>\n",
       "      <th>room_type</th>\n",
       "      <th>price</th>\n",
       "      <th>minimum_nights</th>\n",
       "      <th>number_of_reviews</th>\n",
       "      <th>calculated_host_listings_count</th>\n",
       "      <th>availability_365</th>\n",
       "    </tr>\n",
       "  </thead>\n",
       "  <tbody>\n",
       "    <tr>\n",
       "      <th>0</th>\n",
       "      <td>Uskudar</td>\n",
       "      <td>41.05650</td>\n",
       "      <td>29.05367</td>\n",
       "      <td>Entire home/apt</td>\n",
       "      <td>720</td>\n",
       "      <td>1</td>\n",
       "      <td>1</td>\n",
       "      <td>1</td>\n",
       "      <td>365</td>\n",
       "    </tr>\n",
       "    <tr>\n",
       "      <th>1</th>\n",
       "      <td>Besiktas</td>\n",
       "      <td>41.06984</td>\n",
       "      <td>29.04545</td>\n",
       "      <td>Entire home/apt</td>\n",
       "      <td>816</td>\n",
       "      <td>365</td>\n",
       "      <td>41</td>\n",
       "      <td>2</td>\n",
       "      <td>279</td>\n",
       "    </tr>\n",
       "    <tr>\n",
       "      <th>2</th>\n",
       "      <td>Beyoglu</td>\n",
       "      <td>41.03254</td>\n",
       "      <td>28.98153</td>\n",
       "      <td>Entire home/apt</td>\n",
       "      <td>233</td>\n",
       "      <td>30</td>\n",
       "      <td>13</td>\n",
       "      <td>1</td>\n",
       "      <td>289</td>\n",
       "    </tr>\n",
       "    <tr>\n",
       "      <th>3</th>\n",
       "      <td>Sisli</td>\n",
       "      <td>41.04471</td>\n",
       "      <td>28.98567</td>\n",
       "      <td>Hotel room</td>\n",
       "      <td>761</td>\n",
       "      <td>3</td>\n",
       "      <td>0</td>\n",
       "      <td>19</td>\n",
       "      <td>365</td>\n",
       "    </tr>\n",
       "    <tr>\n",
       "      <th>4</th>\n",
       "      <td>Sariyer</td>\n",
       "      <td>41.09048</td>\n",
       "      <td>29.05559</td>\n",
       "      <td>Entire home/apt</td>\n",
       "      <td>823</td>\n",
       "      <td>3</td>\n",
       "      <td>0</td>\n",
       "      <td>1</td>\n",
       "      <td>88</td>\n",
       "    </tr>\n",
       "  </tbody>\n",
       "</table>\n",
       "</div>"
      ],
      "text/plain": [
       "  neighbourhood  latitude  longitude        room_type  price  minimum_nights  \\\n",
       "0       Uskudar  41.05650   29.05367  Entire home/apt    720               1   \n",
       "1      Besiktas  41.06984   29.04545  Entire home/apt    816             365   \n",
       "2       Beyoglu  41.03254   28.98153  Entire home/apt    233              30   \n",
       "3         Sisli  41.04471   28.98567       Hotel room    761               3   \n",
       "4       Sariyer  41.09048   29.05559  Entire home/apt    823               3   \n",
       "\n",
       "   number_of_reviews  calculated_host_listings_count  availability_365  \n",
       "0                  1                               1               365  \n",
       "1                 41                               2               279  \n",
       "2                 13                               1               289  \n",
       "3                  0                              19               365  \n",
       "4                  0                               1                88  "
      ]
     },
     "execution_count": 48,
     "metadata": {},
     "output_type": "execute_result"
    }
   ],
   "source": [
    "df.head()"
   ]
  },
  {
   "cell_type": "code",
   "execution_count": 49,
   "id": "44349a0c",
   "metadata": {},
   "outputs": [
    {
     "name": "stdout",
     "output_type": "stream",
     "text": [
      "<class 'pandas.core.frame.DataFrame'>\n",
      "RangeIndex: 23728 entries, 0 to 23727\n",
      "Data columns (total 9 columns):\n",
      " #   Column                          Non-Null Count  Dtype  \n",
      "---  ------                          --------------  -----  \n",
      " 0   neighbourhood                   23728 non-null  object \n",
      " 1   latitude                        23728 non-null  float64\n",
      " 2   longitude                       23728 non-null  float64\n",
      " 3   room_type                       23728 non-null  object \n",
      " 4   price                           23728 non-null  int64  \n",
      " 5   minimum_nights                  23728 non-null  int64  \n",
      " 6   number_of_reviews               23728 non-null  int64  \n",
      " 7   calculated_host_listings_count  23728 non-null  int64  \n",
      " 8   availability_365                23728 non-null  int64  \n",
      "dtypes: float64(2), int64(5), object(2)\n",
      "memory usage: 1.6+ MB\n"
     ]
    }
   ],
   "source": [
    "df.info()"
   ]
  },
  {
   "cell_type": "code",
   "execution_count": 50,
   "id": "ffb3a497",
   "metadata": {},
   "outputs": [
    {
     "data": {
      "text/plain": [
       "array(['Entire home/apt', 'Hotel room', 'Private room', 'Shared room'],\n",
       "      dtype=object)"
      ]
     },
     "execution_count": 50,
     "metadata": {},
     "output_type": "execute_result"
    }
   ],
   "source": [
    "df[\"room_type\"].unique()"
   ]
  },
  {
   "cell_type": "code",
   "execution_count": 51,
   "id": "889b361f",
   "metadata": {},
   "outputs": [
    {
     "data": {
      "text/plain": [
       "array(['Uskudar', 'Besiktas', 'Beyoglu', 'Sisli', 'Sariyer', 'Fatih',\n",
       "       'Kadikoy', 'Kagithane', 'Adalar', 'Maltepe', 'Esenyurt', 'Beykoz',\n",
       "       'Basaksehir', 'Bahcelievler', 'Bagcilar', 'Silivri', 'Beylikduzu',\n",
       "       'Umraniye', 'Sile', 'Cekmekoy', 'Kucukcekmece', 'Sancaktepe',\n",
       "       'Bakirkoy', 'Tuzla', 'Pendik', 'Atasehir', 'Kartal', 'Sultangazi',\n",
       "       'Gaziosmanpasa', 'Buyukcekmece', 'Eyup', 'Zeytinburnu', 'Catalca',\n",
       "       'Avcilar', 'Gungoren', 'Esenler', 'Sultanbeyli', 'Bayrampasa',\n",
       "       'Arnavutkoy'], dtype=object)"
      ]
     },
     "execution_count": 51,
     "metadata": {},
     "output_type": "execute_result"
    }
   ],
   "source": [
    "df[\"neighbourhood\"].unique()"
   ]
  },
  {
   "cell_type": "code",
   "execution_count": 52,
   "id": "a3533bd6",
   "metadata": {},
   "outputs": [],
   "source": [
    "le=LabelEncoder()\n",
    "le.fit(df[\"room_type\"])\n",
    "df[\"room_type\"]=le.transform(df[\"room_type\"])"
   ]
  },
  {
   "cell_type": "code",
   "execution_count": 53,
   "id": "6cf77f9f",
   "metadata": {},
   "outputs": [],
   "source": [
    "le_neighbourhood=LabelEncoder()\n",
    "le_neighbourhood.fit(df[\"neighbourhood\"])\n",
    "df[\"neighbourhood\"]=le_neighbourhood.transform(df[\"neighbourhood\"])"
   ]
  },
  {
   "cell_type": "code",
   "execution_count": 54,
   "id": "7e5d33e5",
   "metadata": {},
   "outputs": [
    {
     "data": {
      "text/html": [
       "<div>\n",
       "<style scoped>\n",
       "    .dataframe tbody tr th:only-of-type {\n",
       "        vertical-align: middle;\n",
       "    }\n",
       "\n",
       "    .dataframe tbody tr th {\n",
       "        vertical-align: top;\n",
       "    }\n",
       "\n",
       "    .dataframe thead th {\n",
       "        text-align: right;\n",
       "    }\n",
       "</style>\n",
       "<table border=\"1\" class=\"dataframe\">\n",
       "  <thead>\n",
       "    <tr style=\"text-align: right;\">\n",
       "      <th></th>\n",
       "      <th>neighbourhood</th>\n",
       "      <th>latitude</th>\n",
       "      <th>longitude</th>\n",
       "      <th>room_type</th>\n",
       "      <th>price</th>\n",
       "      <th>minimum_nights</th>\n",
       "      <th>number_of_reviews</th>\n",
       "      <th>calculated_host_listings_count</th>\n",
       "      <th>availability_365</th>\n",
       "    </tr>\n",
       "  </thead>\n",
       "  <tbody>\n",
       "    <tr>\n",
       "      <th>0</th>\n",
       "      <td>37</td>\n",
       "      <td>41.05650</td>\n",
       "      <td>29.05367</td>\n",
       "      <td>0</td>\n",
       "      <td>720</td>\n",
       "      <td>1</td>\n",
       "      <td>1</td>\n",
       "      <td>1</td>\n",
       "      <td>365</td>\n",
       "    </tr>\n",
       "    <tr>\n",
       "      <th>1</th>\n",
       "      <td>9</td>\n",
       "      <td>41.06984</td>\n",
       "      <td>29.04545</td>\n",
       "      <td>0</td>\n",
       "      <td>816</td>\n",
       "      <td>365</td>\n",
       "      <td>41</td>\n",
       "      <td>2</td>\n",
       "      <td>279</td>\n",
       "    </tr>\n",
       "    <tr>\n",
       "      <th>2</th>\n",
       "      <td>12</td>\n",
       "      <td>41.03254</td>\n",
       "      <td>28.98153</td>\n",
       "      <td>0</td>\n",
       "      <td>233</td>\n",
       "      <td>30</td>\n",
       "      <td>13</td>\n",
       "      <td>1</td>\n",
       "      <td>289</td>\n",
       "    </tr>\n",
       "    <tr>\n",
       "      <th>3</th>\n",
       "      <td>32</td>\n",
       "      <td>41.04471</td>\n",
       "      <td>28.98567</td>\n",
       "      <td>1</td>\n",
       "      <td>761</td>\n",
       "      <td>3</td>\n",
       "      <td>0</td>\n",
       "      <td>19</td>\n",
       "      <td>365</td>\n",
       "    </tr>\n",
       "    <tr>\n",
       "      <th>4</th>\n",
       "      <td>29</td>\n",
       "      <td>41.09048</td>\n",
       "      <td>29.05559</td>\n",
       "      <td>0</td>\n",
       "      <td>823</td>\n",
       "      <td>3</td>\n",
       "      <td>0</td>\n",
       "      <td>1</td>\n",
       "      <td>88</td>\n",
       "    </tr>\n",
       "    <tr>\n",
       "      <th>5</th>\n",
       "      <td>12</td>\n",
       "      <td>41.04844</td>\n",
       "      <td>28.95254</td>\n",
       "      <td>2</td>\n",
       "      <td>343</td>\n",
       "      <td>3</td>\n",
       "      <td>0</td>\n",
       "      <td>1</td>\n",
       "      <td>364</td>\n",
       "    </tr>\n",
       "    <tr>\n",
       "      <th>6</th>\n",
       "      <td>12</td>\n",
       "      <td>41.03350</td>\n",
       "      <td>28.97626</td>\n",
       "      <td>2</td>\n",
       "      <td>768</td>\n",
       "      <td>1</td>\n",
       "      <td>1</td>\n",
       "      <td>1</td>\n",
       "      <td>365</td>\n",
       "    </tr>\n",
       "    <tr>\n",
       "      <th>7</th>\n",
       "      <td>32</td>\n",
       "      <td>41.05382</td>\n",
       "      <td>28.99739</td>\n",
       "      <td>2</td>\n",
       "      <td>384</td>\n",
       "      <td>2</td>\n",
       "      <td>1</td>\n",
       "      <td>2</td>\n",
       "      <td>364</td>\n",
       "    </tr>\n",
       "    <tr>\n",
       "      <th>8</th>\n",
       "      <td>12</td>\n",
       "      <td>41.02704</td>\n",
       "      <td>28.97588</td>\n",
       "      <td>2</td>\n",
       "      <td>473</td>\n",
       "      <td>1</td>\n",
       "      <td>0</td>\n",
       "      <td>1</td>\n",
       "      <td>365</td>\n",
       "    </tr>\n",
       "    <tr>\n",
       "      <th>9</th>\n",
       "      <td>12</td>\n",
       "      <td>41.03658</td>\n",
       "      <td>28.97213</td>\n",
       "      <td>0</td>\n",
       "      <td>459</td>\n",
       "      <td>30</td>\n",
       "      <td>38</td>\n",
       "      <td>3</td>\n",
       "      <td>364</td>\n",
       "    </tr>\n",
       "  </tbody>\n",
       "</table>\n",
       "</div>"
      ],
      "text/plain": [
       "   neighbourhood  latitude  longitude  room_type  price  minimum_nights  \\\n",
       "0             37  41.05650   29.05367          0    720               1   \n",
       "1              9  41.06984   29.04545          0    816             365   \n",
       "2             12  41.03254   28.98153          0    233              30   \n",
       "3             32  41.04471   28.98567          1    761               3   \n",
       "4             29  41.09048   29.05559          0    823               3   \n",
       "5             12  41.04844   28.95254          2    343               3   \n",
       "6             12  41.03350   28.97626          2    768               1   \n",
       "7             32  41.05382   28.99739          2    384               2   \n",
       "8             12  41.02704   28.97588          2    473               1   \n",
       "9             12  41.03658   28.97213          0    459              30   \n",
       "\n",
       "   number_of_reviews  calculated_host_listings_count  availability_365  \n",
       "0                  1                               1               365  \n",
       "1                 41                               2               279  \n",
       "2                 13                               1               289  \n",
       "3                  0                              19               365  \n",
       "4                  0                               1                88  \n",
       "5                  0                               1               364  \n",
       "6                  1                               1               365  \n",
       "7                  1                               2               364  \n",
       "8                  0                               1               365  \n",
       "9                 38                               3               364  "
      ]
     },
     "execution_count": 54,
     "metadata": {},
     "output_type": "execute_result"
    }
   ],
   "source": [
    "df.head(10)"
   ]
  },
  {
   "cell_type": "code",
   "execution_count": 55,
   "id": "735458a4",
   "metadata": {},
   "outputs": [],
   "source": [
    "y= df[\"price\"]\n",
    "x=df.drop(columns=[\"price\"])"
   ]
  },
  {
   "cell_type": "code",
   "execution_count": 56,
   "id": "7622a9b3",
   "metadata": {},
   "outputs": [],
   "source": [
    "x_train,x_test,y_train,y_test=train_test_split(x,y,random_state=42,train_size=0.70)"
   ]
  },
  {
   "cell_type": "code",
   "execution_count": 57,
   "id": "588e5363",
   "metadata": {},
   "outputs": [],
   "source": [
    "ss=StandardScaler()\n",
    "x_train =ss.fit_transform(x_train)\n",
    "x_test=ss.transform(x_test)"
   ]
  },
  {
   "cell_type": "code",
   "execution_count": 58,
   "id": "cf63aa7a",
   "metadata": {},
   "outputs": [
    {
     "data": {
      "text/plain": [
       "0.3149852610092291"
      ]
     },
     "execution_count": 58,
     "metadata": {},
     "output_type": "execute_result"
    }
   ],
   "source": [
    "from sklearn.neighbors import KNeighborsRegressor\n",
    "\n",
    "\n",
    "knn = KNeighborsRegressor(5, metric=\"euclidean\")\n",
    "model=knn.fit(x_train, y_train)\n",
    "model.score(x_test,y_test)\n"
   ]
  },
  {
   "cell_type": "code",
   "execution_count": 59,
   "id": "ce852357",
   "metadata": {},
   "outputs": [
    {
     "name": "stdout",
     "output_type": "stream",
     "text": [
      "KNeighborsRegressor Training Accuracy: 0.405602443810703\n",
      "KNeighborsRegressor Testing Accuracy: 0.3149852610092291\n"
     ]
    }
   ],
   "source": [
    "print(\"KNeighborsRegressor Training Accuracy:\", model.score(x_train , y_train))\n",
    "print(\"KNeighborsRegressor Testing Accuracy:\", model.score(x_test , y_test))"
   ]
  },
  {
   "cell_type": "code",
   "execution_count": 60,
   "id": "0f944ceb",
   "metadata": {},
   "outputs": [
    {
     "data": {
      "text/plain": [
       "2612849.732900688"
      ]
     },
     "execution_count": 60,
     "metadata": {},
     "output_type": "execute_result"
    }
   ],
   "source": [
    "y_pred = model.predict(x_test)\n",
    "mean_squared_error(y_test,y_pred)"
   ]
  },
  {
   "cell_type": "code",
   "execution_count": 61,
   "id": "7ab23477",
   "metadata": {},
   "outputs": [
    {
     "data": {
      "text/plain": [
       "1.098924806532883"
      ]
     },
     "execution_count": 61,
     "metadata": {},
     "output_type": "execute_result"
    }
   ],
   "source": [
    "mean_absolute_percentage_error(y_test,y_pred)"
   ]
  },
  {
   "cell_type": "code",
   "execution_count": 74,
   "id": "0b373659",
   "metadata": {},
   "outputs": [
    {
     "name": "stderr",
     "output_type": "stream",
     "text": [
      "C:\\Users\\MERAL\\anaconda3\\lib\\site-packages\\seaborn\\_decorators.py:36: FutureWarning: Pass the following variables as keyword args: x, y. From version 0.12, the only valid positional argument will be `data`, and passing other arguments without an explicit keyword will result in an error or misinterpretation.\n",
      "  warnings.warn(\n"
     ]
    },
    {
     "data": {
      "image/png": "[encoded data removed]",
      "text/plain": [
       "<Figure size 600x600 with 1 Axes>"
      ]
     },
     "metadata": {},
     "output_type": "display_data"
    }
   ],
   "source": [
    "plt.figure(figsize=(6,6))\n",
    "sns.regplot(y_pred, y_test)\n",
    "plt.title(\"The correlation line between predictions and the actual values\")\n",
    "plt.show()"
   ]
  },
  {
   "cell_type": "code",
   "execution_count": 62,
   "id": "c0b42bbd",
   "metadata": {},
   "outputs": [
    {
     "data": {
      "text/plain": [
       "0.2988650550033407"
      ]
     },
     "execution_count": 62,
     "metadata": {},
     "output_type": "execute_result"
    }
   ],
   "source": [
    "rf=RandomForestRegressor(n_estimators=300)\n",
    "model=rf.fit(x_train,y_train)\n",
    "model.score(x_test,y_test)"
   ]
  },
  {
   "cell_type": "code",
   "execution_count": 73,
   "id": "59889888",
   "metadata": {},
   "outputs": [
    {
     "name": "stdout",
     "output_type": "stream",
     "text": [
      "Random Forest Training Accuracy: 0.8903451756481536\n",
      "Random Forest Testing Accuracy: 0.2988650550033407\n"
     ]
    }
   ],
   "source": [
    "print(\"Random Forest Training Accuracy:\", model.score(x_train , y_train))\n",
    "print(\"Random Forest Testing Accuracy:\", model.score(x_test , y_test))"
   ]
  },
  {
   "cell_type": "code",
   "execution_count": 64,
   "id": "74976ace",
   "metadata": {},
   "outputs": [
    {
     "data": {
      "text/html": [
       "<div>\n",
       "<style scoped>\n",
       "    .dataframe tbody tr th:only-of-type {\n",
       "        vertical-align: middle;\n",
       "    }\n",
       "\n",
       "    .dataframe tbody tr th {\n",
       "        vertical-align: top;\n",
       "    }\n",
       "\n",
       "    .dataframe thead th {\n",
       "        text-align: right;\n",
       "    }\n",
       "</style>\n",
       "<table border=\"1\" class=\"dataframe\">\n",
       "  <thead>\n",
       "    <tr style=\"text-align: right;\">\n",
       "      <th></th>\n",
       "      <th>Y_test</th>\n",
       "      <th>Y_pred</th>\n",
       "    </tr>\n",
       "  </thead>\n",
       "  <tbody>\n",
       "    <tr>\n",
       "      <th>8819</th>\n",
       "      <td>1076</td>\n",
       "      <td>955.295333</td>\n",
       "    </tr>\n",
       "    <tr>\n",
       "      <th>19665</th>\n",
       "      <td>247</td>\n",
       "      <td>218.030000</td>\n",
       "    </tr>\n",
       "    <tr>\n",
       "      <th>16568</th>\n",
       "      <td>199</td>\n",
       "      <td>231.806667</td>\n",
       "    </tr>\n",
       "    <tr>\n",
       "      <th>16693</th>\n",
       "      <td>1385</td>\n",
       "      <td>495.316667</td>\n",
       "    </tr>\n",
       "    <tr>\n",
       "      <th>17464</th>\n",
       "      <td>302</td>\n",
       "      <td>496.396667</td>\n",
       "    </tr>\n",
       "    <tr>\n",
       "      <th>20751</th>\n",
       "      <td>494</td>\n",
       "      <td>592.820000</td>\n",
       "    </tr>\n",
       "    <tr>\n",
       "      <th>12570</th>\n",
       "      <td>425</td>\n",
       "      <td>600.950000</td>\n",
       "    </tr>\n",
       "    <tr>\n",
       "      <th>7217</th>\n",
       "      <td>226</td>\n",
       "      <td>180.836667</td>\n",
       "    </tr>\n",
       "    <tr>\n",
       "      <th>10180</th>\n",
       "      <td>3846</td>\n",
       "      <td>2343.546667</td>\n",
       "    </tr>\n",
       "    <tr>\n",
       "      <th>6717</th>\n",
       "      <td>110</td>\n",
       "      <td>125.950000</td>\n",
       "    </tr>\n",
       "    <tr>\n",
       "      <th>9140</th>\n",
       "      <td>288</td>\n",
       "      <td>187.473306</td>\n",
       "    </tr>\n",
       "    <tr>\n",
       "      <th>9872</th>\n",
       "      <td>206</td>\n",
       "      <td>353.773333</td>\n",
       "    </tr>\n",
       "    <tr>\n",
       "      <th>15224</th>\n",
       "      <td>247</td>\n",
       "      <td>380.416667</td>\n",
       "    </tr>\n",
       "    <tr>\n",
       "      <th>7976</th>\n",
       "      <td>62</td>\n",
       "      <td>121.023333</td>\n",
       "    </tr>\n",
       "    <tr>\n",
       "      <th>22791</th>\n",
       "      <td>233</td>\n",
       "      <td>140.130000</td>\n",
       "    </tr>\n",
       "    <tr>\n",
       "      <th>11852</th>\n",
       "      <td>103</td>\n",
       "      <td>89.043333</td>\n",
       "    </tr>\n",
       "    <tr>\n",
       "      <th>11887</th>\n",
       "      <td>672</td>\n",
       "      <td>548.933333</td>\n",
       "    </tr>\n",
       "    <tr>\n",
       "      <th>11408</th>\n",
       "      <td>1152</td>\n",
       "      <td>820.046667</td>\n",
       "    </tr>\n",
       "    <tr>\n",
       "      <th>14160</th>\n",
       "      <td>75</td>\n",
       "      <td>101.960000</td>\n",
       "    </tr>\n",
       "    <tr>\n",
       "      <th>5787</th>\n",
       "      <td>309</td>\n",
       "      <td>243.123333</td>\n",
       "    </tr>\n",
       "  </tbody>\n",
       "</table>\n",
       "</div>"
      ],
      "text/plain": [
       "       Y_test       Y_pred\n",
       "8819     1076   955.295333\n",
       "19665     247   218.030000\n",
       "16568     199   231.806667\n",
       "16693    1385   495.316667\n",
       "17464     302   496.396667\n",
       "20751     494   592.820000\n",
       "12570     425   600.950000\n",
       "7217      226   180.836667\n",
       "10180    3846  2343.546667\n",
       "6717      110   125.950000\n",
       "9140      288   187.473306\n",
       "9872      206   353.773333\n",
       "15224     247   380.416667\n",
       "7976       62   121.023333\n",
       "22791     233   140.130000\n",
       "11852     103    89.043333\n",
       "11887     672   548.933333\n",
       "11408    1152   820.046667\n",
       "14160      75   101.960000\n",
       "5787      309   243.123333"
      ]
     },
     "execution_count": 64,
     "metadata": {},
     "output_type": "execute_result"
    }
   ],
   "source": [
    "y_pred = model.predict(x_test)\n",
    "df2 = pd.DataFrame({\"Y_test\": y_test , \"Y_pred\" : y_pred})\n",
    "df2.head(20)"
   ]
  },
  {
   "cell_type": "code",
   "execution_count": 67,
   "id": "9186cba6",
   "metadata": {},
   "outputs": [
    {
     "data": {
      "text/plain": [
       "2674336.987932374"
      ]
     },
     "execution_count": 67,
     "metadata": {},
     "output_type": "execute_result"
    }
   ],
   "source": [
    "mean_squared_error(y_test,y_pred)"
   ]
  },
  {
   "cell_type": "code",
   "execution_count": 68,
   "id": "70b1819c",
   "metadata": {},
   "outputs": [
    {
     "data": {
      "text/plain": [
       "1.2647693392661699"
      ]
     },
     "execution_count": 68,
     "metadata": {},
     "output_type": "execute_result"
    }
   ],
   "source": [
    "mean_absolute_percentage_error(y_test,y_pred)"
   ]
  }
 ],
 "metadata": {
  "kernelspec": {
   "display_name": "Python 3 (ipykernel)",
   "language": "python",
   "name": "python3"
  },
  "language_info": {
   "codemirror_mode": {
    "name": "ipython",
    "version": 3
   },
   "file_extension": ".py",
   "mimetype": "text/x-python",
   "name": "python",
   "nbconvert_exporter": "python",
   "pygments_lexer": "ipython3",
   "version": "3.9.13"
  }
 },
 "nbformat": 4,
 "nbformat_minor": 5
}
